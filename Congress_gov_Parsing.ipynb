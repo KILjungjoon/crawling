{
  "nbformat": 4,
  "nbformat_minor": 0,
  "metadata": {
    "colab": {
      "provenance": [],
      "authorship_tag": "ABX9TyOlko4ocR5mrg+hFrddrgXS",
      "include_colab_link": true
    },
    "kernelspec": {
      "name": "python3",
      "display_name": "Python 3"
    },
    "language_info": {
      "name": "python"
    }
  },
  "cells": [
    {
      "cell_type": "markdown",
      "metadata": {
        "id": "view-in-github",
        "colab_type": "text"
      },
      "source": [
        "<a href=\"https://colab.research.google.com/github/KILjungjoon/crawling/blob/main/Congress_gov_Parsing.ipynb\" target=\"_parent\"><img src=\"https://colab.research.google.com/assets/colab-badge.svg\" alt=\"Open In Colab\"/></a>"
      ]
    },
    {
      "cell_type": "markdown",
      "source": [
        "### U.S. Congress.gov의 bill(법안) 텍스트 파싱하기"
      ],
      "metadata": {
        "id": "w22RR3V3x7g0"
      }
    },
    {
      "cell_type": "code",
      "source": [
        "!pip install BeautifulSoup4"
      ],
      "metadata": {
        "colab": {
          "base_uri": "https://localhost:8080/"
        },
        "id": "o4Ru13Ynrqyj",
        "outputId": "1bd91620-319e-4722-a976-fa771ebb9769"
      },
      "execution_count": 2,
      "outputs": [
        {
          "output_type": "stream",
          "name": "stdout",
          "text": [
            "Looking in indexes: https://pypi.org/simple, https://us-python.pkg.dev/colab-wheels/public/simple/\n",
            "Requirement already satisfied: BeautifulSoup4 in /usr/local/lib/python3.10/dist-packages (4.11.2)\n",
            "Requirement already satisfied: soupsieve>1.2 in /usr/local/lib/python3.10/dist-packages (from BeautifulSoup4) (2.4.1)\n"
          ]
        }
      ]
    },
    {
      "cell_type": "code",
      "source": [
        "from urllib.request import urlopen\n",
        "from bs4 import BeautifulSoup\n",
        "import requests\n",
        "import pandas as pd\n",
        "import urllib\n",
        "import json\n",
        "import re"
      ],
      "metadata": {
        "id": "M1uHBej-rru7"
      },
      "execution_count": 3,
      "outputs": []
    },
    {
      "cell_type": "markdown",
      "source": [
        "* https://api.congress.gov/#/</p>\n",
        "GET/bill/{congress}/{billType}/{billNumber}/text"
      ],
      "metadata": {
        "id": "xHsFfMzVqoCF"
      }
    },
    {
      "cell_type": "code",
      "source": [
        "# txt, pdf, xlm 파일을 불러오는 api\n",
        "import requests\n",
        "import json\n",
        "\n",
        "# Replace [INSERT_KEY] with your API key\n",
        "api_key = \"o48jX1IrbUmeRWISVnERSiM2rUB2NKeuJPWsWUsy\"\n",
        "\n",
        "# Set up the API endpoint URL\n",
        "# url = \"https://api.congress.gov/v3/bills\"\n",
        "url='https://api.congress.gov/v3/bill/116/hr/2002/text?api_key=o48jX1IrbUmeRWISVnERSiM2rUB2NKeuJPWsWUsy'\n",
        "\n",
        "# Send the API request and get the response data\n",
        "response = requests.get(url)\n",
        "soup = BeautifulSoup(response.content, \"html.parser\")\n",
        "\n",
        "# Find an element by its tag name\n",
        "# title = soup.find(\"title\")\n",
        "print(soup)"
      ],
      "metadata": {
        "colab": {
          "base_uri": "https://localhost:8080/"
        },
        "id": "e317Fsk4rsDs",
        "outputId": "6dc5802a-fa71-4e53-fb0a-023a52d4ecd1"
      },
      "execution_count": 15,
      "outputs": [
        {
          "output_type": "stream",
          "name": "stdout",
          "text": [
            "{\n",
            "    \"pagination\": {\n",
            "        \"count\": 3\n",
            "    },\n",
            "    \"request\": {\n",
            "        \"billNumber\": \"2002\",\n",
            "        \"billType\": \"hr\",\n",
            "        \"billUrl\": \"https://api.data.gov/congress/v3/bill/116/hr/2002?format=json\",\n",
            "        \"congress\": \"116\",\n",
            "        \"contentType\": \"application/json\",\n",
            "        \"format\": \"json\"\n",
            "    },\n",
            "    \"textVersions\": [\n",
            "        {\n",
            "            \"date\": \"2019-05-08T04:00:00Z\",\n",
            "            \"formats\": [\n",
            "                {\n",
            "                    \"type\": \"Formatted Text\",\n",
            "                    \"url\": \"https://www.congress.gov/116/bills/hr2002/BILLS-116hr2002rfs.htm\"\n",
            "                },\n",
            "                {\n",
            "                    \"type\": \"PDF\",\n",
            "                    \"url\": \"https://www.congress.gov/116/bills/hr2002/BILLS-116hr2002rfs.pdf\"\n",
            "                },\n",
            "                {\n",
            "                    \"type\": \"Formatted XML\",\n",
            "                    \"url\": \"https://www.congress.gov/116/bills/hr2002/BILLS-116hr2002rfs.xml\"\n",
            "                }\n",
            "            ],\n",
            "            \"type\": \"Referred in Senate\"\n",
            "        },\n",
            "        {\n",
            "            \"date\": \"2019-05-07T04:00:00Z\",\n",
            "            \"formats\": [\n",
            "                {\n",
            "                    \"type\": \"Formatted Text\",\n",
            "                    \"url\": \"https://www.congress.gov/116/bills/hr2002/BILLS-116hr2002eh.htm\"\n",
            "                },\n",
            "                {\n",
            "                    \"type\": \"PDF\",\n",
            "                    \"url\": \"https://www.congress.gov/116/bills/hr2002/BILLS-116hr2002eh.pdf\"\n",
            "                },\n",
            "                {\n",
            "                    \"type\": \"Formatted XML\",\n",
            "                    \"url\": \"https://www.congress.gov/116/bills/hr2002/BILLS-116hr2002eh.xml\"\n",
            "                }\n",
            "            ],\n",
            "            \"type\": \"Engrossed in House\"\n",
            "        },\n",
            "        {\n",
            "            \"date\": \"2019-04-01T04:00:00Z\",\n",
            "            \"formats\": [\n",
            "                {\n",
            "                    \"type\": \"Formatted Text\",\n",
            "                    \"url\": \"https://www.congress.gov/116/bills/hr2002/BILLS-116hr2002ih.htm\"\n",
            "                },\n",
            "                {\n",
            "                    \"type\": \"PDF\",\n",
            "                    \"url\": \"https://www.congress.gov/116/bills/hr2002/BILLS-116hr2002ih.pdf\"\n",
            "                },\n",
            "                {\n",
            "                    \"type\": \"Formatted XML\",\n",
            "                    \"url\": \"https://www.congress.gov/116/bills/hr2002/BILLS-116hr2002ih.xml\"\n",
            "                }\n",
            "            ],\n",
            "            \"type\": \"Introduced in House\"\n",
            "        },\n",
            "        {\n",
            "            \"date\": null,\n",
            "            \"formats\": [],\n",
            "            \"type\": null\n",
            "        }\n",
            "    ]\n",
            "}\n"
          ]
        }
      ]
    },
    {
      "cell_type": "code",
      "source": [
        "# 첫 번째 htm 파일이 txt 문서이다.\n",
        "import json\n",
        "import re\n",
        "\n",
        "# Load the JSON string into a dictionary\n",
        "data = json.loads(str(soup))\n",
        "\n",
        "# Extract the URLs that match the criteria using regular expressions\n",
        "urls = []\n",
        "for version in data['textVersions']:\n",
        "    for format in version['formats']:\n",
        "        if re.match(r'https.*\\.htm', format['url']):\n",
        "            urls.append(format['url'])\n",
        "\n",
        "# Print the extracted URLs\n",
        "print(urls[0])"
      ],
      "metadata": {
        "colab": {
          "base_uri": "https://localhost:8080/"
        },
        "id": "dyeir0y_il6N",
        "outputId": "c7eff6f8-c2ad-422e-e09e-ebcc00d320e8"
      },
      "execution_count": 7,
      "outputs": [
        {
          "output_type": "stream",
          "name": "stdout",
          "text": [
            "https://www.congress.gov/116/bills/hr2002/BILLS-116hr2002rfs.htm\n"
          ]
        }
      ]
    },
    {
      "cell_type": "code",
      "source": [
        "# 텍스트 전처리\n",
        "url=urls[0]\n",
        "response = requests.get(url)\n",
        "soup = BeautifulSoup(response.content, \"html.parser\").text\n",
        "text=soup.replace('<html><body><pre>','').replace('&lt;DOC&gt;','').replace('</pre></body></html>','')\n",
        "print(text.strip())"
      ],
      "metadata": {
        "colab": {
          "base_uri": "https://localhost:8080/"
        },
        "id": "Xks56GLwjkWi",
        "outputId": "cb631cf4-0258-4176-e55c-5ec4189875d4"
      },
      "execution_count": 24,
      "outputs": [
        {
          "output_type": "stream",
          "name": "stdout",
          "text": [
            "[Congressional Bills 116th Congress]\n",
            "[From the U.S. Government Publishing Office]\n",
            "[H.R. 2002 Referred in Senate (RFS)]\n",
            "\n",
            "<DOC>\n",
            "116th CONGRESS\n",
            "  1st Session\n",
            "                                H. R. 2002\n",
            "\n",
            "\n",
            "_______________________________________________________________________\n",
            "\n",
            "\n",
            "                   IN THE SENATE OF THE UNITED STATES\n",
            "\n",
            "                              May 8, 2019\n",
            "\n",
            "Received; read twice and referred to the Committee on Foreign Relations\n",
            "\n",
            "_______________________________________________________________________\n",
            "\n",
            "                                 AN ACT\n",
            "\n",
            "\n",
            " \n",
            "         To foster security in Taiwan, and for other purposes.\n",
            "\n",
            "    Be it enacted by the Senate and House of Representatives of the \n",
            "United States of America in Congress assembled,\n",
            "\n",
            "SECTION 1. SHORT TITLE.\n",
            "\n",
            "    This Act may be cited as the ``Taiwan Assurance Act of 2019''.\n",
            "\n",
            "SEC. 2. FINDINGS.\n",
            "\n",
            "    Congress makes the following findings:\n",
            "            (1) April 10, 2019, marks the 40th anniversary of the \n",
            "        Taiwan Relations Act of 1979 (Public Law 96-8).\n",
            "            (2) Since 1949, the close relationship between the United \n",
            "        States and Taiwan has benefitted both parties and the broader \n",
            "        Indo-Pacific region.\n",
            "            (3) The security of Taiwan and its democracy are key \n",
            "        elements of continued peace and stability of the greater Indo-\n",
            "        Pacific region, which is in the political, security, and \n",
            "        economic interests of the United States.\n",
            "            (4) The People's Republic of China is currently engaged in \n",
            "        a comprehensive military modernization campaign to enhance the \n",
            "        power-projection capabilities of the People's Liberation Army \n",
            "        and its ability to conduct joint operations, which is shifting \n",
            "        the military balance of power across the Taiwan Strait.\n",
            "            (5) Taiwan and its diplomatic partners continue to face \n",
            "        sustained pressure and coercion from the People's Republic of \n",
            "        China, which seeks to isolate Taiwan from the international \n",
            "        community.\n",
            "            (6) It is the policy of the United States to reinforce its \n",
            "        commitments to Taiwan under the Taiwan Relations Act in a \n",
            "        manner consistent with the ``Six Assurances'' and in accordance \n",
            "        with the United States ``One China'' policy.\n",
            "            (7) In the Taiwan Travel Act, which became law on March 16, \n",
            "        2018, Congress observed that the ``self-imposed restrictions \n",
            "        that the United States maintains on high-level visits'' between \n",
            "        the United States and Taiwan have resulted in insufficient \n",
            "        high-level communication.\n",
            "\n",
            "SEC. 3. SENSE OF CONGRESS.\n",
            "\n",
            "    It is the sense of Congress that--\n",
            "            (1) Taiwan is a vital part of the United States Free and \n",
            "        Open Indo-Pacific Strategy;\n",
            "            (2) the United States Government--\n",
            "                    (A) supports Taiwan's continued pursuit of \n",
            "                asymmetric capabilities and concepts; and\n",
            "                    (B) urges Taiwan to increase its defense spending \n",
            "                in order to fully resource its defense strategy; and\n",
            "            (3) the United States should conduct regular sales and \n",
            "        transfers of defense articles to Taiwan in order to enhance its \n",
            "        self-defense capabilities, particularly its efforts to develop \n",
            "        and integrate asymmetric capabilities, including undersea \n",
            "        warfare and air defense capabilities, into its military forces.\n",
            "\n",
            "SEC. 4. TAIWAN'S INCLUSION IN INTERNATIONAL ORGANIZATIONS.\n",
            "\n",
            "    (a) Sense of Congress.--It is the sense of Congress that the \n",
            "People's Republic of China's attempts to dictate the terms of Taiwan's \n",
            "participation in international organizations, has, in many cases, \n",
            "resulted in Taiwan's exclusion from such organizations even when \n",
            "statehood is not a requirement, and that such exclusion--\n",
            "            (1) is detrimental to global health, civilian air safety, \n",
            "        and efforts to counter transnational crime;\n",
            "            (2) negatively impacts the safety and security of citizens \n",
            "        globally; and\n",
            "            (3) negatively impacts the security of Taiwan and its \n",
            "        democracy.\n",
            "    (b) Statement of Policy.--It is the policy of the United States to \n",
            "advocate for Taiwan's meaningful participation in the United Nations, \n",
            "the World Health Assembly, the International Civil Aviation \n",
            "Organization, the International Criminal Police Organization, and other \n",
            "international bodies, as appropriate, and to advocate for Taiwan's \n",
            "membership in the Food and Agriculture Organization, the United Nations \n",
            "Educational, Scientific and Cultural Organization, and other \n",
            "international organizations for which statehood is not a requirement \n",
            "for membership.\n",
            "\n",
            "SEC. 5. REVIEW OF DEPARTMENT OF STATE TAIWAN GUIDELINES.\n",
            "\n",
            "    (a) In General.--Not later than 180 days after the date of the \n",
            "enactment of this Act, the Secretary of State shall conduct a review of \n",
            "the Department of State's guidance that governs relations with Taiwan, \n",
            "including the periodic memorandum entitled ``Guidelines on Relations \n",
            "with Taiwan'' and related documents, and reissue such guidance to \n",
            "executive branch departments and agencies.\n",
            "    (b) Sense of Congress.--It is the sense of Congress that the \n",
            "Department of State's guidance regarding relations with Taiwan--\n",
            "            (1) should be crafted with the intent to deepen and expand \n",
            "        United States-Taiwan relations, and be based on the value, \n",
            "        merits, and importance of the United States-Taiwan \n",
            "        relationship;\n",
            "            (2) should be crafted giving due consideration to the fact \n",
            "        that Taiwan is governed by a representative democratic \n",
            "        government that is peacefully constituted through free and fair \n",
            "        elections that reflect the will of the people of Taiwan, and \n",
            "        that Taiwan is a free and open society that respects universal \n",
            "        human rights and democratic values; and\n",
            "            (3) should ensure that the conduct of relations with Taiwan \n",
            "        reflects the longstanding, comprehensive, and values-based \n",
            "        relationship the United States shares with Taiwan, and \n",
            "        contribute to the peaceful resolution of cross-Strait issues.\n",
            "    (c) Reporting Requirements.--Not later than 180 days after the date \n",
            "of the enactment of this Act, the Secretary of State shall submit to \n",
            "the Committee on Foreign Relations of the Senate and the Committee on \n",
            "Foreign Affairs of the House of Representatives a report that includes \n",
            "a description of--\n",
            "            (1) the results of the review pursuant to subsection (a) of \n",
            "        the Department of State's guidance on relations with Taiwan, \n",
            "        including a copy of the reissued ``Guidelines of Relations with \n",
            "        Taiwan'' memorandum; and\n",
            "            (2) the implementation of the Taiwan Travel Act (Public Law \n",
            "        115-135) and any changes to guidance on relations with Taiwan \n",
            "        that are the result of such implementation.\n",
            "\n",
            "            Passed the House of Representatives May 7, 2019.\n",
            "\n",
            "            Attest:\n",
            "\n",
            "                                             CHERYL L. JOHNSON,\n",
            "\n",
            "                                                                 Clerk.\n"
          ]
        }
      ]
    },
    {
      "cell_type": "markdown",
      "source": [
        "* 이상 텍스트 파싱 종료\n",
        "---"
      ],
      "metadata": {
        "id": "oU4HehM-yL8X"
      }
    }
  ]
}