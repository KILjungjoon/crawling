{
  "nbformat": 4,
  "nbformat_minor": 0,
  "metadata": {
    "colab": {
      "provenance": [],
      "authorship_tag": "ABX9TyM78R1wyyKWmlOyY79/Cs8a",
      "include_colab_link": true
    },
    "kernelspec": {
      "name": "python3",
      "display_name": "Python 3"
    },
    "language_info": {
      "name": "python"
    }
  },
  "cells": [
    {
      "cell_type": "markdown",
      "metadata": {
        "id": "view-in-github",
        "colab_type": "text"
      },
      "source": [
        "<a href=\"https://colab.research.google.com/github/KILjungjoon/crawling/blob/main/Lyrics_scrapper.ipynb\" target=\"_parent\"><img src=\"https://colab.research.google.com/assets/colab-badge.svg\" alt=\"Open In Colab\"/></a>"
      ]
    },
    {
      "cell_type": "markdown",
      "source": [
        "# '곡명 가수명'을 query로 주고 가사를 가져오는 코드\n",
        "* ver.2022.12.02"
      ],
      "metadata": {
        "id": "ckEUvgpCAOEy"
      }
    },
    {
      "cell_type": "code",
      "source": [
        "import re\n",
        "import requests\n",
        "from bs4 import BeautifulSoup\n",
        "import pandas as pd"
      ],
      "metadata": {
        "id": "t_4I9L5xA9QZ"
      },
      "execution_count": 2,
      "outputs": []
    },
    {
      "cell_type": "code",
      "execution_count": 3,
      "metadata": {
        "colab": {
          "base_uri": "https://localhost:8080/"
        },
        "id": "6iUwt9AmALRZ",
        "outputId": "495bc3bc-182e-4144-e098-68c0f95da47d"
      },
      "outputs": [
        {
          "output_type": "stream",
          "name": "stdout",
          "text": [
            "Butterfly(33976671)\n",
            "****************************************\n",
            "어리석은 세상은 너를 몰라 누에 속에 감춰진 너를 못 봐 나는 알아 내겐 보여 그토록 찬란한 너의 날개 겁내지마 할 수 있어 뜨겁게 꿈틀거리는 날개를 펴 날아올라 세상 위로 태양처럼 빛을 내는 그대여 이 세상이 거칠게 막아서도 빛나는 사람아 난 너를 사랑해 널 세상이 볼 수 있게 날아 저 멀리 꺾여 버린 꽃처럼 아플 때도 쓰러진 나무처럼 초라해도 너를 믿어 나를 믿어 우리는 서로를 믿고 있어 심장의 소릴 느껴봐 힘겹게 접어 놓았던 날개를 펴 날아올라 세상 위로 벅차도록 아름다운 그대여 이 세상이 차갑게 등을 보여도 눈부신 사람아 난 너를 사랑해 널 세상이 볼 수 있게 날아 저 멀리 이 세상이 거칠게 막아서도 빛나는 사람아 난 너를 사랑해 널 세상이 볼 수 있게 날아 저 멀리\n",
            "=|=|=|=|=|=|=|=|=|=|=|=|=|=|=|=|=|=|=|=|=|=|=|=|=|\n",
            "사랑은 늘 도망가(34061322)\n",
            "****************************************\n",
            "눈물이 난다 이 길을 걸으면 그 사람 손길이 자꾸 생각이 난다 붙잡지 못하고 가슴만 떨었지 내 아름답던 사람아 사랑이란 게 참 쓰린 거더라 잡으려 할수록 더 멀어지더라 이별이란 게 참 쉬운 거더라 내 잊지 못할 사람아 사랑아 왜 도망가 수줍은 아이처럼 행여 놓아버릴까 봐 꼭 움켜쥐지만 그리움이 쫓아 사랑은 늘 도망가 잠시 쉬어가면 좋을 텐데 바람이 분다 옷깃을 세워도 차가운 이별의 눈물이 차올라 잊지 못해서 가슴에 사무친 내 소중했던 사람아 사랑아 왜 도망가 수줍은 아이처럼 행여 놓아버릴까 봐 꼭 움켜쥐지만 그리움이 쫓아 사랑은 늘 도망가 잠시 쉬어가면 좋을 텐데 기다림도 애태움도 다 버려야 하는데 무얼 찾아 이 길을 서성일까 무얼 찾아 여기 있나 사랑아 왜 도망가 수줍은 아이처럼 행여 놓아버릴까 봐 꼭 움켜쥐지만 그리움이 쫓아 사랑은 늘 도망가 잠시 쉬어가면 좋을 텐데 잠시 쉬어가면 좋을 텐데\n",
            "=|=|=|=|=|=|=|=|=|=|=|=|=|=|=|=|=|=|=|=|=|=|=|=|=|\n"
          ]
        }
      ],
      "source": [
        "titles=['Butterfly 전미도','사랑은 늘 도망가 임영웅']\n",
        "\n",
        "def get_lyrics(Q):\n",
        "    hdr={'User-Agent':'Mozilla/5.0 (Windows NT 6.3; Win64; x64) AppleWebKit/537.36 (KHTML, like Gecko) Chrome/63.0.3239.132 Safari/537.36'}\n",
        "    # url = 'https://www.melon.com/search/lyric/index.htm?q=방탄소년단'+Q+'&section=&searchGnbYn=Y&kkoSpl=N&kkoDpType='  # BTS 노래 찾을 때\n",
        "    url = 'https://www.melon.com/search/lyric/index.htm?q='+Q+'&section=&searchGnbYn=Y&kkoSpl=N&kkoDpType='\n",
        "        # BTS의 노래만 크롤링한다면 url에 '방탄소년단'을 검색어로 고정시키면 검색 정확도가 높아진다.\n",
        "    response = requests.get(url, headers=hdr)\n",
        "\n",
        "    if response.status_code == 200:\n",
        "        val = response.text\n",
        "        data=\"data-song-no=\"\n",
        "        ID = val[val.find(data)+len(data)+1:val.find(data)+len(data)+13]\n",
        "\n",
        "        pattern = r\"\\d{1,13}\"\n",
        "        ID = re.findall(pattern , ID)[0]\n",
        "        # print('Song id : '+ID)\n",
        "        url2 = \"https://www.melon.com/song/detail.htm?songId=\"+str(ID)    # 해당 곡의 rul이다. 이 page에 가사를 포함한 모든 곡정보가 있다.\n",
        "\n",
        "        response2 = requests.get(url2, headers=hdr)   # 응답값이 200이 나와야 정상이다.\n",
        "        html = requests.get(url=url2, headers=hdr).text\n",
        "        bs=BeautifulSoup(html, \"html.parser\")   # 최종적으로 bs를 얻는 것이 목적이다.\n",
        "\n",
        "        title=str(bs.body.find('div', class_=\"song_name\"))\n",
        "        # title=re.sub('[\\/:*?\"<>|]','', title)     # 곡명에 기호가 있는 경우 있으므로 적용하면 안 된다.\n",
        "        title=re.sub(r'<div class=\"song_name\">','', title)\n",
        "        title=re.sub(r'<strong class=\"none\">곡명</strong>','', title)\n",
        "        title=re.sub(r'</div>','', title)\n",
        "        title=title.strip()\n",
        "        title=title.replace(\"/\",\"흫\")   # 곡명 중 /가 있을 경우 파일 저장이 안 되므로 흫로 바꿔준다.\n",
        "        print(title+\"(\"+ID+\")\")\n",
        "        print(\"*\"*40)        \n",
        "        soupstr=str(bs.body.find('div', class_=\"lyric\"))   # str을 하는 이유:<br/>가 사라지면 가사가 붙어 버리므로\n",
        "        result=re.sub('[\\/:*?\"<>|]','', soupstr)\n",
        "        result=re.sub(r'<div class=\"lyric\" id=\"d_video_summary\">','', result)\n",
        "        result=re.sub(r'</div>','', result)\n",
        "        result=result.replace(\"<br/>\",\"\\n\")\n",
        "        result=result.replace(\"div class=lyric id=d_video_summary!-- heightauto; 로 변경시, 확장됨 --\", \"\")\n",
        "        result=result.replace(\"div\",\"\")\n",
        "        result=result.replace(\"br\",\" \")\n",
        "        lyrics=result.strip()\n",
        "        # open_file_path='D:/LyricCorpus/Postagging/pre-process/'+str(year)+'/'+ song_name + '_pos_space.txt'\n",
        "        # with open('/content/drive/MyDrive/Colab Notebooks/song_folder'+title+'.txt', \"w\") as f:\n",
        "        #   f.write(lyrics)\n",
        "        return lyrics\n",
        "      # except : \n",
        "      #   return response.status_code\n",
        "\n",
        "for 곡명 in titles :\n",
        "  print(get_lyrics(곡명))\n",
        "  print(\"=|\"*25)"
      ]
    }
  ]
}